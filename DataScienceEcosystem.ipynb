{
 "cells": [
  {
   "cell_type": "markdown",
   "id": "98ed3dc9-9be8-43c7-990b-b46bffaede30",
   "metadata": {},
   "source": [
    "# Data Science Tools and Ecosystem"
   ]
  },
  {
   "cell_type": "markdown",
   "id": "75a501be-49cd-474a-8073-abf99accf5b2",
   "metadata": {},
   "source": [
    "In this notebook, Data Science Tools and Ecosystem are summarized."
   ]
  },
  {
   "cell_type": "markdown",
   "id": "c08d6e38-904c-40eb-9312-3471e82fb29b",
   "metadata": {},
   "source": [
    "* Objectives:\n",
    "- Libraries\n",
    "- languages\n",
    "- Tools"
   ]
  },
  {
   "cell_type": "markdown",
   "id": "e9e68c89-623d-418d-9960-7b636b2f84a7",
   "metadata": {},
   "source": [
    "Some of popular languages that Data Scientists use are: \n",
    "- 1 R\n",
    "- 2 Julia\n",
    "- 3 Pyton"
   ]
  },
  {
   "cell_type": "markdown",
   "id": "d91cb4e9-5ee2-40d0-b844-b181214c854c",
   "metadata": {},
   "source": [
    "Some of the commonly used libraries by Data Scientists include:\n",
    "- NumPy\n",
    "- Pandas\n",
    "- Matplotlib\n",
    "- Seaborn"
   ]
  },
  {
   "cell_type": "markdown",
   "id": "a95c9b62-fafd-49c2-b02a-87bf202be944",
   "metadata": {},
   "source": [
    "|Data Science Tools|\n",
    "|-------------------|\n",
    "|R-Studio|\n",
    "|Jupiter Notebook|\n",
    "|Apache Spark|"
   ]
  },
  {
   "cell_type": "markdown",
   "id": "fde37e1a-e47b-40c0-b8b4-8004cc1c8d85",
   "metadata": {},
   "source": [
    "### Below are a few examples of evaluating arithmetic expressions in Pyton"
   ]
  },
  {
   "cell_type": "code",
   "execution_count": 4,
   "id": "54bc8c4c-1bbd-414f-84a6-f0613f47b28f",
   "metadata": {},
   "outputs": [
    {
     "data": {
      "text/plain": [
       "-41"
      ]
     },
     "execution_count": 4,
     "metadata": {},
     "output_type": "execute_result"
    }
   ],
   "source": [
    "(22*43+6)\n",
    "(13-6*9)"
   ]
  },
  {
   "cell_type": "code",
   "execution_count": 7,
   "id": "717402ad-8425-45d3-b43e-8d60f16ee919",
   "metadata": {},
   "outputs": [
    {
     "data": {
      "text/plain": [
       "17"
      ]
     },
     "execution_count": 7,
     "metadata": {},
     "output_type": "execute_result"
    }
   ],
   "source": [
    "#This a simple arithmetic expression to mutiply then add integers\n",
    "(3*4)+5"
   ]
  },
  {
   "cell_type": "code",
   "execution_count": 8,
   "id": "b25ee0a8-e9e1-4d05-a2df-6288aadf3a89",
   "metadata": {},
   "outputs": [
    {
     "data": {
      "text/plain": [
       "3.3333333333333335"
      ]
     },
     "execution_count": 8,
     "metadata": {},
     "output_type": "execute_result"
    }
   ],
   "source": [
    "#This will convert 200 minutes to hours by diving by 60\n",
    "(200/60)"
   ]
  },
  {
   "cell_type": "markdown",
   "id": "442abc8a-1616-4c33-a3a7-b859f57152aa",
   "metadata": {},
   "source": [
    "## Author"
   ]
  },
  {
   "cell_type": "markdown",
   "id": "2a282ce8-64ce-488a-a39d-0bdfe1bf861d",
   "metadata": {},
   "source": [
    "Lidiya Weber"
   ]
  },
  {
   "cell_type": "code",
   "execution_count": null,
   "id": "df66ffd7-2fd2-493d-b27e-4de108a0ce2d",
   "metadata": {},
   "outputs": [],
   "source": []
  }
 ],
 "metadata": {
  "kernelspec": {
   "display_name": "Python 3 (ipykernel)",
   "language": "python",
   "name": "python3"
  },
  "language_info": {
   "codemirror_mode": {
    "name": "ipython",
    "version": 3
   },
   "file_extension": ".py",
   "mimetype": "text/x-python",
   "name": "python",
   "nbconvert_exporter": "python",
   "pygments_lexer": "ipython3",
   "version": "3.12.7"
  }
 },
 "nbformat": 4,
 "nbformat_minor": 5
}
